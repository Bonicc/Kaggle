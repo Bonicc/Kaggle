{
 "cells": [
  {
   "cell_type": "code",
   "execution_count": 1,
   "metadata": {},
   "outputs": [
    {
     "name": "stdout",
     "output_type": "stream",
     "text": [
      "Loading environment football failed: No module named 'gfootball'\n"
     ]
    }
   ],
   "source": [
    "from kaggle_environments.envs.hungry_geese.hungry_geese import Observation, Configuration, Action, row_col, greedy_agent"
   ]
  },
  {
   "cell_type": "code",
   "execution_count": 2,
   "metadata": {},
   "outputs": [],
   "source": [
    "from kaggle_environments import make\n",
    "env = make(\"hungry_geese\", debug=True)"
   ]
  },
  {
   "cell_type": "code",
   "execution_count": 12,
   "metadata": {},
   "outputs": [],
   "source": [
    "import numpy as np\n",
    "np.random.seed(777)\n",
    "\n",
    "def agent(obs_dict, config_dict):\n",
    "    \"\"\"This agent always moves toward observation.food[0] but does not take advantage of board wrapping\"\"\"\n",
    "    alpha = 0.3\n",
    "    gamma = 0.95\n",
    "        \n",
    "    def action_select(eps, q_table,player_position, action_length):\n",
    "        action_index = np.random.randint(action_length)\n",
    "        if eps< np.random.random_sample():\n",
    "            action_index = np.argmax(q_table[player_position[0]][player_position[1]])\n",
    "        return action_index\n",
    "        \n",
    "    observation = Observation(obs_dict)\n",
    "    configuration = Configuration(config_dict)\n",
    "    player_index = observation.index\n",
    "    \n",
    "    # 내 얼굴과 몸통 (player index에 따라 해당 goose의 위치 계산 가능)    \n",
    "    player_goose = observation.geese[player_index]\n",
    "    \n",
    "    \n",
    "    # 0번째는 내 얼굴\n",
    "    player_head = player_goose[0]\n",
    "    \n",
    "    # 얼굴의 위치 (int형)을 주어진 맵의 위치로 변환(configuration.columns 는 맵의 컬럼개수)\n",
    "    player_row, player_column = row_col(player_head, configuration.columns) #    \n",
    "    \n",
    "    # 첫번쨰 음식과 두번째 음식이 있음.\n",
    "    foods_position = observation.food\n",
    "    \n",
    "    # for drawing map, get position of other snakes and of mine\n",
    "    snakes_position = []\n",
    "    for i in range(len(observation.geese)):\n",
    "        snakes_position += observation.geese[i]        \n",
    "        \n",
    "    map_status = [[-0.01 for _ in range(configuration.columns)] for _ in range(configuration.rows)]\n",
    "    q_table = [[[0 for _ in range(len(Action))] for _ in range(configuration.columns)] for _ in range(configuration.rows)]\n",
    "    \n",
    "    for i in snakes_position:\n",
    "        row, col = row_col(i, configuration.columns)\n",
    "        map_status[row][col] = -9999\n",
    "        \n",
    "    for i in foods_position:\n",
    "        row, col = row_col(i, configuration.columns)\n",
    "        map_status[row][col] = 100\n",
    "    \n",
    "    action_name = [Action.EAST.name, Action.WEST.name, Action.SOUTH.name, Action.NORTH.name]        \n",
    "    action_set = [[0,1],[0,-1],[1,0],[-1,0]]\n",
    "    \n",
    "    #for i in range(7):\n",
    "    #    print(map_status[i])\n",
    "    \n",
    "    init_eps = 0.9\n",
    "        \n",
    "    for i in range(1000):\n",
    "        eps = init_eps/(i+1)\n",
    "        \n",
    "        pp = [player_row,player_column]\n",
    "        \n",
    "        time_count = 0\n",
    "        \n",
    "        for j in range(5000):      \n",
    "            ai = action_select(eps,q_table,pp,len(Action))\n",
    "            pnp = list(map(lambda x,y: x+y, pp,action_set[ai]))\n",
    "            pnp[0] = (pnp[0]+7)%7\n",
    "            pnp[1] = (pnp[1]+11)%11     \n",
    "                        \n",
    "            if map_status[pnp[0]][pnp[1]] == -9999:\n",
    "                q_table[pp[0]][pp[1]][ai] = \\\n",
    "                    (1-alpha) * q_table[pp[0]][pp[1]][ai] + \\\n",
    "                    alpha*(map_status[pnp[0]][pnp[1]])\n",
    "                break\n",
    "                \n",
    "            elif map_status[pnp[0]][pnp[1]] == 100:\n",
    "                q_table[pp[0]][pp[1]][ai] = \\\n",
    "                    (1-alpha) * q_table[pp[0]][pp[1]][ai] + \\\n",
    "                    alpha*(map_status[pnp[0]][pnp[1]]+\n",
    "                    gamma*np.mean((q_table[pnp[0]][pnp[1]])))\n",
    "                \n",
    "                time_count = 1\n",
    "                \n",
    "            else:\n",
    "                q_table[pp[0]][pp[1]][ai] = \\\n",
    "                    (1-alpha) * q_table[pp[0]][pp[1]][ai] + \\\n",
    "                    alpha*(map_status[pnp[0]][pnp[1]]+\n",
    "                    gamma*np.mean((q_table[pnp[0]][pnp[1]])))\n",
    "                \n",
    "            if time_count != 0:\n",
    "                if time_count == -1:\n",
    "                    break\n",
    "                time_count = -1\n",
    "                \n",
    "            pp = pnp\n",
    "            \n",
    "    #print(action_name[np.argmax(q_table[player_row][player_column])])\n",
    "    #print(q_table[player_row][player_column])\n",
    "    return action_name[np.argmax(q_table[player_row][player_column])]\n",
    "            "
   ]
  },
  {
   "cell_type": "code",
   "execution_count": null,
   "metadata": {},
   "outputs": [],
   "source": [
    "step = env.run([agent,'greedy',\"greedy\",\"greedy\"])#,normal_agent,normal_agent])\n",
    "env.render(mode = \"ipython\")"
   ]
  },
  {
   "cell_type": "code",
   "execution_count": null,
   "metadata": {},
   "outputs": [],
   "source": []
  }
 ],
 "metadata": {
  "kernelspec": {
   "display_name": "Python 3",
   "language": "python",
   "name": "python3"
  },
  "language_info": {
   "codemirror_mode": {
    "name": "ipython",
    "version": 3
   },
   "file_extension": ".py",
   "mimetype": "text/x-python",
   "name": "python",
   "nbconvert_exporter": "python",
   "pygments_lexer": "ipython3",
   "version": "3.6.10"
  }
 },
 "nbformat": 4,
 "nbformat_minor": 4
}
